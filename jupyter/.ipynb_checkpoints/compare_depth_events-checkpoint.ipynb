{
 "cells": [
  {
   "cell_type": "code",
   "execution_count": 2,
   "metadata": {},
   "outputs": [],
   "source": [
    "import matplotlib\n",
    "import obspy\n",
    "import numpy as np\n",
    "%matplotlib inline"
   ]
  },
  {
   "cell_type": "code",
   "execution_count": null,
   "metadata": {},
   "outputs": [],
   "source": [
    "selected_stations=[\"ASI\",\"ONS\",\"TYM\",\"KZS\",\"HJO\",\"AOG\",\"SBT\",\"ADM\",\"KZK\",\"WJM\",\"SRN\",\"SGN\",\"FUJ\",\"TTO\",\"KNM\",\"JIZ\",\"KNY\",\"NAA\",\"WTR\",\"KIS\",\"TGA\",\"YAS\",\"ABU\",\"NOK\",\"KMT\"]"
   ]
  }
 ],
 "metadata": {
  "kernelspec": {
   "display_name": "seismology",
   "language": "python",
   "name": "seismology"
  },
  "language_info": {
   "codemirror_mode": {
    "name": "ipython",
    "version": 3
   },
   "file_extension": ".py",
   "mimetype": "text/x-python",
   "name": "python",
   "nbconvert_exporter": "python",
   "pygments_lexer": "ipython3",
   "version": "3.7.5"
  }
 },
 "nbformat": 4,
 "nbformat_minor": 2
}
